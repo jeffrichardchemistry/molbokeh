{
 "cells": [
  {
   "cell_type": "code",
   "execution_count": null,
   "metadata": {},
   "outputs": [],
   "source": [
    "#Install package\n",
    "!pip3 install spectrafp"
   ]
  },
  {
   "cell_type": "markdown",
   "metadata": {},
   "source": [
    "# Generating SpectraFP\n",
    "- This descriptor can be used for any list of signals. Ex: [17.7, 20.0, 22.9, 28.9, 29.9, 35.8, 37.6,170.1]"
   ]
  },
  {
   "cell_type": "code",
   "execution_count": 1,
   "metadata": {},
   "outputs": [],
   "source": [
    "import pandas as pd\n",
    "from SpectraFP import SpectraFP"
   ]
  },
  {
   "cell_type": "code",
   "execution_count": 10,
   "metadata": {
    "scrolled": true
   },
   "outputs": [
    {
     "data": {
      "text/html": [
       "<div>\n",
       "<style scoped>\n",
       "    .dataframe tbody tr th:only-of-type {\n",
       "        vertical-align: middle;\n",
       "    }\n",
       "\n",
       "    .dataframe tbody tr th {\n",
       "        vertical-align: top;\n",
       "    }\n",
       "\n",
       "    .dataframe thead th {\n",
       "        text-align: right;\n",
       "    }\n",
       "</style>\n",
       "<table border=\"1\" class=\"dataframe\">\n",
       "  <thead>\n",
       "    <tr style=\"text-align: right;\">\n",
       "      <th></th>\n",
       "      <th>smiles</th>\n",
       "      <th>ppm_carbon</th>\n",
       "    </tr>\n",
       "  </thead>\n",
       "  <tbody>\n",
       "    <tr>\n",
       "      <th>0</th>\n",
       "      <td>C1(C(C(C2(C(C1([H])[H])(C(C(=C(C2([H])[H])[H])...</td>\n",
       "      <td>[17.6, 18.3, 22.6, 26.5, 31.7, 33.5, 41.8, 42....</td>\n",
       "    </tr>\n",
       "    <tr>\n",
       "      <th>1</th>\n",
       "      <td>C1(C(C2(C3(C1(C(=C(C3(C([H])([H])[H])[H])C(O[H...</td>\n",
       "      <td>[17.7, 20.0, 22.9, 28.9, 29.9, 35.8, 37.6, 39....</td>\n",
       "    </tr>\n",
       "    <tr>\n",
       "      <th>2</th>\n",
       "      <td>[N+]1(=C(C(N(C1(C([H])([H])[H])C([H])([H])[H])...</td>\n",
       "      <td>[23.3, 23.5, 26.1, 60.5, 90.0, 132.1]</td>\n",
       "    </tr>\n",
       "    <tr>\n",
       "      <th>3</th>\n",
       "      <td>C(=C(C1(C([H])([H])[H])C(C(=C([H])[H])C([H])([...</td>\n",
       "      <td>[16.0, 18.8, 20.9, 25.2, 33.8, 34.5, 38.7, 46....</td>\n",
       "    </tr>\n",
       "    <tr>\n",
       "      <th>4</th>\n",
       "      <td>C(C(O[H])(C(C([H])([H])[H])(C([H])([H])[H])[H]...</td>\n",
       "      <td>[7.7, 11.8, 12.5, 15.3, 15.8, 19.8, 25.2, 27.0...</td>\n",
       "    </tr>\n",
       "    <tr>\n",
       "      <th>...</th>\n",
       "      <td>...</td>\n",
       "      <td>...</td>\n",
       "    </tr>\n",
       "    <tr>\n",
       "      <th>32104</th>\n",
       "      <td>C(C(C(C(C(O[H])([H])[H])(O[H])[H])(O[H])[H])(O...</td>\n",
       "      <td>[63.1968, 69.1801, 70.7443]</td>\n",
       "    </tr>\n",
       "    <tr>\n",
       "      <th>32105</th>\n",
       "      <td>C(C(=O)O[H])(C(C(C(=O)O[H])([H])[H])([H])[H])(...</td>\n",
       "      <td>[25.5207, 30.0229, 53.842, 173.841, 177.084]</td>\n",
       "    </tr>\n",
       "    <tr>\n",
       "      <th>32106</th>\n",
       "      <td>C=1(C(C(C(C(C1[H])([H])[H])(C(C([H])([H])[H])=...</td>\n",
       "      <td>[20.8184, 23.4891, 27.8913, 30.5814, 30.7878, ...</td>\n",
       "    </tr>\n",
       "    <tr>\n",
       "      <th>32107</th>\n",
       "      <td>C(C(N([H])[H])(C(O[H])([H])[H])[H])(=O)O[H]</td>\n",
       "      <td>[56.3474, 60.1336, 172.385]</td>\n",
       "    </tr>\n",
       "    <tr>\n",
       "      <th>32108</th>\n",
       "      <td>C(C(C(C(C(C(C(C(C(C(C(C(C(C1=C(C(=C(C(=C1[H])[...</td>\n",
       "      <td>[19.5834, 20.9968, 25.2682, 29.4496, 29.9438, ...</td>\n",
       "    </tr>\n",
       "  </tbody>\n",
       "</table>\n",
       "<p>32109 rows × 2 columns</p>\n",
       "</div>"
      ],
      "text/plain": [
       "                                                  smiles  \\\n",
       "0      C1(C(C(C2(C(C1([H])[H])(C(C(=C(C2([H])[H])[H])...   \n",
       "1      C1(C(C2(C3(C1(C(=C(C3(C([H])([H])[H])[H])C(O[H...   \n",
       "2      [N+]1(=C(C(N(C1(C([H])([H])[H])C([H])([H])[H])...   \n",
       "3      C(=C(C1(C([H])([H])[H])C(C(=C([H])[H])C([H])([...   \n",
       "4      C(C(O[H])(C(C([H])([H])[H])(C([H])([H])[H])[H]...   \n",
       "...                                                  ...   \n",
       "32104  C(C(C(C(C(O[H])([H])[H])(O[H])[H])(O[H])[H])(O...   \n",
       "32105  C(C(=O)O[H])(C(C(C(=O)O[H])([H])[H])([H])[H])(...   \n",
       "32106  C=1(C(C(C(C(C1[H])([H])[H])(C(C([H])([H])[H])=...   \n",
       "32107        C(C(N([H])[H])(C(O[H])([H])[H])[H])(=O)O[H]   \n",
       "32108  C(C(C(C(C(C(C(C(C(C(C(C(C(C1=C(C(=C(C(=C1[H])[...   \n",
       "\n",
       "                                              ppm_carbon  \n",
       "0      [17.6, 18.3, 22.6, 26.5, 31.7, 33.5, 41.8, 42....  \n",
       "1      [17.7, 20.0, 22.9, 28.9, 29.9, 35.8, 37.6, 39....  \n",
       "2                  [23.3, 23.5, 26.1, 60.5, 90.0, 132.1]  \n",
       "3      [16.0, 18.8, 20.9, 25.2, 33.8, 34.5, 38.7, 46....  \n",
       "4      [7.7, 11.8, 12.5, 15.3, 15.8, 19.8, 25.2, 27.0...  \n",
       "...                                                  ...  \n",
       "32104                        [63.1968, 69.1801, 70.7443]  \n",
       "32105       [25.5207, 30.0229, 53.842, 173.841, 177.084]  \n",
       "32106  [20.8184, 23.4891, 27.8913, 30.5814, 30.7878, ...  \n",
       "32107                        [56.3474, 60.1336, 172.385]  \n",
       "32108  [19.5834, 20.9968, 25.2682, 29.4496, 29.9438, ...  \n",
       "\n",
       "[32109 rows x 2 columns]"
      ]
     },
     "execution_count": 10,
     "metadata": {},
     "output_type": "execute_result"
    }
   ],
   "source": [
    "#Here i used pickle compress format, but can be csv.\n",
    "path = 'nmr.pkl'\n",
    "df = pd.read_pickle(path, compression='zip')\n",
    "df"
   ]
  },
  {
   "cell_type": "code",
   "execution_count": 11,
   "metadata": {},
   "outputs": [],
   "source": [
    "specfp = SpectraFP(range_spectra=[0, 240, 0.1])"
   ]
  },
  {
   "cell_type": "code",
   "execution_count": 17,
   "metadata": {},
   "outputs": [
    {
     "name": "stdout",
     "output_type": "stream",
     "text": [
      "ppm_list:\n",
      "[17.6, 18.3, 22.6, 26.5, 31.7, 33.5, 41.8, 42.0, 42.2, 78.34, 140.99, 158.3, 193.4, 203.0]\n",
      "\n",
      "FP\n",
      "[0 0 0 0 0 0 0 0 0 0 0 0 0 0 0 0 0 0 0 0 0 0 0 0 0 1 1 0 0 0 0 0 1 0 0 0 0\n",
      " 1 0 0 0 0 0 0 0 1 0 1 0 0 0 0 0 0 0 0 0 0 0 1 1 0 0 0 0 0 0 0 0 0 0 0 0 0\n",
      " 0 0 0 0 0 0 0 0 0 0 0 0 0 0 0 0 0 0 0 0 0 0 0 0 0 0 0 0 0 0 0 0 0 0 0 0 0\n",
      " 1 0 0 0 0 0 0 0 0 0 0 0 0 0 0 0 0 0 0 0 0 0 0 0 0 0 0 0 0 0 0 0 0 0 0 0 0\n",
      " 0 0 0 0 0 0 0 0 0 0 0 0 0 0 0 0 0 0 0 0 0 0 0 0 0 0 0 0 0 0 0 0 0 0 0 0 0\n",
      " 0 0 0 0 0 0 0 0 0 0 0 0 0 0 0 0 1 0 0 0 0 0 0 0 0 0 0 0 0 0 0 0 0 0 0 0 0\n",
      " 0 0 0 0 1 0 0 0 0 0 0 0 0 0 0 0 0 0 0 0 0 0 0 0 0 0 0 0 0 0 0 0 0 0 0 0 0\n",
      " 0 0 0 0 0 0 0 0 0 0 0 0 0 0 0 0 0 1 0 0 0 0 0 0 0 0 0 0 0 0 0 1 0 0 0 0 0\n",
      " 0 0 0 0 0 0 0 0 0 0 0 0 0 0 0 0 0 0 0 0 0 0 0 0 0 0 0 0 0 0 0 0 0 0 0 0 0\n",
      " 0 0 0 0 0 0 0 0 0 0 0 0 0 0 0]\n"
     ]
    }
   ],
   "source": [
    "#Create a unique fingerprint\n",
    "ppm_list = df.ppm_carbon[0]\n",
    "fp = specfp.genFP(sample=ppm_list,\n",
    "             correction=3,\n",
    "             spurious_variables=False,\n",
    "             precision=1)\n",
    "\n",
    "print('ppm_list:\\n{}\\n\\nFP\\n{}'.format(ppm_list, fp))"
   ]
  },
  {
   "cell_type": "code",
   "execution_count": 22,
   "metadata": {},
   "outputs": [
    {
     "name": "stderr",
     "output_type": "stream",
     "text": [
      "100%|██████████| 100/100 [00:19<00:00,  5.07it/s]\n"
     ]
    },
    {
     "data": {
      "text/html": [
       "<div>\n",
       "<style scoped>\n",
       "    .dataframe tbody tr th:only-of-type {\n",
       "        vertical-align: middle;\n",
       "    }\n",
       "\n",
       "    .dataframe tbody tr th {\n",
       "        vertical-align: top;\n",
       "    }\n",
       "\n",
       "    .dataframe thead th {\n",
       "        text-align: right;\n",
       "    }\n",
       "</style>\n",
       "<table border=\"1\" class=\"dataframe\">\n",
       "  <thead>\n",
       "    <tr style=\"text-align: right;\">\n",
       "      <th></th>\n",
       "      <th>ppm-0.1</th>\n",
       "      <th>ppm-0.4</th>\n",
       "      <th>ppm-0.7</th>\n",
       "      <th>ppm-1.0</th>\n",
       "      <th>ppm-1.3</th>\n",
       "      <th>ppm-1.6</th>\n",
       "      <th>ppm-1.9</th>\n",
       "      <th>ppm-2.2</th>\n",
       "      <th>ppm-2.5</th>\n",
       "      <th>ppm-2.8</th>\n",
       "      <th>...</th>\n",
       "      <th>ppm-237.4</th>\n",
       "      <th>ppm-237.7</th>\n",
       "      <th>ppm-238.0</th>\n",
       "      <th>ppm-238.3</th>\n",
       "      <th>ppm-238.6</th>\n",
       "      <th>ppm-238.9</th>\n",
       "      <th>ppm-239.2</th>\n",
       "      <th>ppm-239.5</th>\n",
       "      <th>ppm-239.8</th>\n",
       "      <th>ppm-239.9</th>\n",
       "    </tr>\n",
       "  </thead>\n",
       "  <tbody>\n",
       "    <tr>\n",
       "      <th>0</th>\n",
       "      <td>0</td>\n",
       "      <td>0</td>\n",
       "      <td>0</td>\n",
       "      <td>0</td>\n",
       "      <td>0</td>\n",
       "      <td>0</td>\n",
       "      <td>0</td>\n",
       "      <td>0</td>\n",
       "      <td>0</td>\n",
       "      <td>0</td>\n",
       "      <td>...</td>\n",
       "      <td>0</td>\n",
       "      <td>0</td>\n",
       "      <td>0</td>\n",
       "      <td>0</td>\n",
       "      <td>0</td>\n",
       "      <td>0</td>\n",
       "      <td>0</td>\n",
       "      <td>0</td>\n",
       "      <td>0</td>\n",
       "      <td>0</td>\n",
       "    </tr>\n",
       "    <tr>\n",
       "      <th>1</th>\n",
       "      <td>0</td>\n",
       "      <td>0</td>\n",
       "      <td>0</td>\n",
       "      <td>0</td>\n",
       "      <td>0</td>\n",
       "      <td>0</td>\n",
       "      <td>0</td>\n",
       "      <td>0</td>\n",
       "      <td>0</td>\n",
       "      <td>0</td>\n",
       "      <td>...</td>\n",
       "      <td>0</td>\n",
       "      <td>0</td>\n",
       "      <td>0</td>\n",
       "      <td>0</td>\n",
       "      <td>0</td>\n",
       "      <td>0</td>\n",
       "      <td>0</td>\n",
       "      <td>0</td>\n",
       "      <td>0</td>\n",
       "      <td>0</td>\n",
       "    </tr>\n",
       "    <tr>\n",
       "      <th>2</th>\n",
       "      <td>0</td>\n",
       "      <td>0</td>\n",
       "      <td>0</td>\n",
       "      <td>0</td>\n",
       "      <td>0</td>\n",
       "      <td>0</td>\n",
       "      <td>0</td>\n",
       "      <td>0</td>\n",
       "      <td>0</td>\n",
       "      <td>0</td>\n",
       "      <td>...</td>\n",
       "      <td>0</td>\n",
       "      <td>0</td>\n",
       "      <td>0</td>\n",
       "      <td>0</td>\n",
       "      <td>0</td>\n",
       "      <td>0</td>\n",
       "      <td>0</td>\n",
       "      <td>0</td>\n",
       "      <td>0</td>\n",
       "      <td>0</td>\n",
       "    </tr>\n",
       "    <tr>\n",
       "      <th>3</th>\n",
       "      <td>0</td>\n",
       "      <td>0</td>\n",
       "      <td>0</td>\n",
       "      <td>0</td>\n",
       "      <td>0</td>\n",
       "      <td>0</td>\n",
       "      <td>0</td>\n",
       "      <td>0</td>\n",
       "      <td>0</td>\n",
       "      <td>0</td>\n",
       "      <td>...</td>\n",
       "      <td>0</td>\n",
       "      <td>0</td>\n",
       "      <td>0</td>\n",
       "      <td>0</td>\n",
       "      <td>0</td>\n",
       "      <td>0</td>\n",
       "      <td>0</td>\n",
       "      <td>0</td>\n",
       "      <td>0</td>\n",
       "      <td>0</td>\n",
       "    </tr>\n",
       "    <tr>\n",
       "      <th>4</th>\n",
       "      <td>0</td>\n",
       "      <td>0</td>\n",
       "      <td>0</td>\n",
       "      <td>0</td>\n",
       "      <td>0</td>\n",
       "      <td>0</td>\n",
       "      <td>0</td>\n",
       "      <td>0</td>\n",
       "      <td>0</td>\n",
       "      <td>0</td>\n",
       "      <td>...</td>\n",
       "      <td>0</td>\n",
       "      <td>0</td>\n",
       "      <td>0</td>\n",
       "      <td>0</td>\n",
       "      <td>0</td>\n",
       "      <td>0</td>\n",
       "      <td>0</td>\n",
       "      <td>0</td>\n",
       "      <td>0</td>\n",
       "      <td>0</td>\n",
       "    </tr>\n",
       "    <tr>\n",
       "      <th>...</th>\n",
       "      <td>...</td>\n",
       "      <td>...</td>\n",
       "      <td>...</td>\n",
       "      <td>...</td>\n",
       "      <td>...</td>\n",
       "      <td>...</td>\n",
       "      <td>...</td>\n",
       "      <td>...</td>\n",
       "      <td>...</td>\n",
       "      <td>...</td>\n",
       "      <td>...</td>\n",
       "      <td>...</td>\n",
       "      <td>...</td>\n",
       "      <td>...</td>\n",
       "      <td>...</td>\n",
       "      <td>...</td>\n",
       "      <td>...</td>\n",
       "      <td>...</td>\n",
       "      <td>...</td>\n",
       "      <td>...</td>\n",
       "      <td>...</td>\n",
       "    </tr>\n",
       "    <tr>\n",
       "      <th>95</th>\n",
       "      <td>0</td>\n",
       "      <td>0</td>\n",
       "      <td>0</td>\n",
       "      <td>0</td>\n",
       "      <td>0</td>\n",
       "      <td>0</td>\n",
       "      <td>0</td>\n",
       "      <td>0</td>\n",
       "      <td>0</td>\n",
       "      <td>0</td>\n",
       "      <td>...</td>\n",
       "      <td>0</td>\n",
       "      <td>0</td>\n",
       "      <td>0</td>\n",
       "      <td>0</td>\n",
       "      <td>0</td>\n",
       "      <td>0</td>\n",
       "      <td>0</td>\n",
       "      <td>0</td>\n",
       "      <td>0</td>\n",
       "      <td>0</td>\n",
       "    </tr>\n",
       "    <tr>\n",
       "      <th>96</th>\n",
       "      <td>0</td>\n",
       "      <td>0</td>\n",
       "      <td>0</td>\n",
       "      <td>0</td>\n",
       "      <td>0</td>\n",
       "      <td>0</td>\n",
       "      <td>0</td>\n",
       "      <td>0</td>\n",
       "      <td>0</td>\n",
       "      <td>0</td>\n",
       "      <td>...</td>\n",
       "      <td>0</td>\n",
       "      <td>0</td>\n",
       "      <td>0</td>\n",
       "      <td>0</td>\n",
       "      <td>0</td>\n",
       "      <td>0</td>\n",
       "      <td>0</td>\n",
       "      <td>0</td>\n",
       "      <td>0</td>\n",
       "      <td>0</td>\n",
       "    </tr>\n",
       "    <tr>\n",
       "      <th>97</th>\n",
       "      <td>0</td>\n",
       "      <td>0</td>\n",
       "      <td>0</td>\n",
       "      <td>0</td>\n",
       "      <td>0</td>\n",
       "      <td>0</td>\n",
       "      <td>0</td>\n",
       "      <td>0</td>\n",
       "      <td>0</td>\n",
       "      <td>0</td>\n",
       "      <td>...</td>\n",
       "      <td>0</td>\n",
       "      <td>0</td>\n",
       "      <td>0</td>\n",
       "      <td>0</td>\n",
       "      <td>0</td>\n",
       "      <td>0</td>\n",
       "      <td>0</td>\n",
       "      <td>0</td>\n",
       "      <td>0</td>\n",
       "      <td>0</td>\n",
       "    </tr>\n",
       "    <tr>\n",
       "      <th>98</th>\n",
       "      <td>0</td>\n",
       "      <td>0</td>\n",
       "      <td>0</td>\n",
       "      <td>0</td>\n",
       "      <td>0</td>\n",
       "      <td>0</td>\n",
       "      <td>0</td>\n",
       "      <td>0</td>\n",
       "      <td>0</td>\n",
       "      <td>0</td>\n",
       "      <td>...</td>\n",
       "      <td>0</td>\n",
       "      <td>0</td>\n",
       "      <td>0</td>\n",
       "      <td>0</td>\n",
       "      <td>0</td>\n",
       "      <td>0</td>\n",
       "      <td>0</td>\n",
       "      <td>0</td>\n",
       "      <td>0</td>\n",
       "      <td>0</td>\n",
       "    </tr>\n",
       "    <tr>\n",
       "      <th>99</th>\n",
       "      <td>0</td>\n",
       "      <td>0</td>\n",
       "      <td>0</td>\n",
       "      <td>0</td>\n",
       "      <td>0</td>\n",
       "      <td>0</td>\n",
       "      <td>0</td>\n",
       "      <td>0</td>\n",
       "      <td>0</td>\n",
       "      <td>0</td>\n",
       "      <td>...</td>\n",
       "      <td>0</td>\n",
       "      <td>0</td>\n",
       "      <td>0</td>\n",
       "      <td>0</td>\n",
       "      <td>0</td>\n",
       "      <td>0</td>\n",
       "      <td>0</td>\n",
       "      <td>0</td>\n",
       "      <td>0</td>\n",
       "      <td>0</td>\n",
       "    </tr>\n",
       "  </tbody>\n",
       "</table>\n",
       "<p>100 rows × 801 columns</p>\n",
       "</div>"
      ],
      "text/plain": [
       "    ppm-0.1  ppm-0.4  ppm-0.7  ppm-1.0  ppm-1.3  ppm-1.6  ppm-1.9  ppm-2.2  \\\n",
       "0         0        0        0        0        0        0        0        0   \n",
       "1         0        0        0        0        0        0        0        0   \n",
       "2         0        0        0        0        0        0        0        0   \n",
       "3         0        0        0        0        0        0        0        0   \n",
       "4         0        0        0        0        0        0        0        0   \n",
       "..      ...      ...      ...      ...      ...      ...      ...      ...   \n",
       "95        0        0        0        0        0        0        0        0   \n",
       "96        0        0        0        0        0        0        0        0   \n",
       "97        0        0        0        0        0        0        0        0   \n",
       "98        0        0        0        0        0        0        0        0   \n",
       "99        0        0        0        0        0        0        0        0   \n",
       "\n",
       "    ppm-2.5  ppm-2.8  ...  ppm-237.4  ppm-237.7  ppm-238.0  ppm-238.3  \\\n",
       "0         0        0  ...          0          0          0          0   \n",
       "1         0        0  ...          0          0          0          0   \n",
       "2         0        0  ...          0          0          0          0   \n",
       "3         0        0  ...          0          0          0          0   \n",
       "4         0        0  ...          0          0          0          0   \n",
       "..      ...      ...  ...        ...        ...        ...        ...   \n",
       "95        0        0  ...          0          0          0          0   \n",
       "96        0        0  ...          0          0          0          0   \n",
       "97        0        0  ...          0          0          0          0   \n",
       "98        0        0  ...          0          0          0          0   \n",
       "99        0        0  ...          0          0          0          0   \n",
       "\n",
       "    ppm-238.6  ppm-238.9  ppm-239.2  ppm-239.5  ppm-239.8  ppm-239.9  \n",
       "0           0          0          0          0          0          0  \n",
       "1           0          0          0          0          0          0  \n",
       "2           0          0          0          0          0          0  \n",
       "3           0          0          0          0          0          0  \n",
       "4           0          0          0          0          0          0  \n",
       "..        ...        ...        ...        ...        ...        ...  \n",
       "95          0          0          0          0          0          0  \n",
       "96          0          0          0          0          0          0  \n",
       "97          0          0          0          0          0          0  \n",
       "98          0          0          0          0          0          0  \n",
       "99          0          0          0          0          0          0  \n",
       "\n",
       "[100 rows x 801 columns]"
      ]
     },
     "execution_count": 22,
     "metadata": {},
     "output_type": "execute_result"
    }
   ],
   "source": [
    "# Run in a complete dataset\n",
    "# Colnames are the centroids (allowed signs when corretion >= 1)\n",
    "ppms = df.iloc[0:100, :].ppm_carbon.values\n",
    "\n",
    "fps = specfp.fit(data_signs=ppms, \n",
    "                 correction=1, \n",
    "                 precision=1, \n",
    "                 spurious_variables=False, \n",
    "                 returnAsDataframe=True, \n",
    "                 colabel='ppm-', \n",
    "                 verbose=True)\n",
    "fps"
   ]
  },
  {
   "cell_type": "code",
   "execution_count": 23,
   "metadata": {},
   "outputs": [
    {
     "data": {
      "text/plain": [
       "array([[0, 0, 0, ..., 0, 0, 0],\n",
       "       [0, 0, 0, ..., 0, 0, 0],\n",
       "       [0, 0, 0, ..., 0, 0, 0],\n",
       "       ...,\n",
       "       [0, 0, 0, ..., 0, 0, 0],\n",
       "       [0, 0, 0, ..., 0, 0, 0],\n",
       "       [0, 0, 0, ..., 0, 0, 0]], dtype=uint8)"
      ]
     },
     "execution_count": 23,
     "metadata": {},
     "output_type": "execute_result"
    }
   ],
   "source": [
    "#get in matrix form\n",
    "fps.values"
   ]
  },
  {
   "cell_type": "code",
   "execution_count": 20,
   "metadata": {},
   "outputs": [
    {
     "name": "stdout",
     "output_type": "stream",
     "text": [
      "Help on method fit in module SpectraFP.spectrafp:\n",
      "\n",
      "fit(data_signs, correction=1, precision=1, spurious_variables=False, returnAsDataframe=True, colabel='sign-', verbose=True) method of SpectraFP.spectrafp.SpectraFP instance\n",
      "    Generate fingerprints of a signs list.\n",
      "    \n",
      "    Args:\n",
      "        data_signs:\n",
      "            List or matrix of signs.\n",
      "            \n",
      "            >>> Example of data format\n",
      "            array([[1.2, 2.4, 12.3, 145.0],\n",
      "                   [5.2, 176.3],\n",
      "                   [12.4, 30.1, 50.3, 70.4,188.7],\n",
      "                   ...,\n",
      "                   [2.2, 65.4, 76.1,125.3]])\n",
      "                \n",
      "        correction:\n",
      "            The correction is associated with the\n",
      "            rigidity of the system. Given a degree of\n",
      "            freedom of 1, we have that in a vector of\n",
      "            signals [0.0, 0.1, 0.2] only the value of the\n",
      "            medium will be considered, i.e., 0.2 and 0.0 \n",
      "            will be treated as 0.1. This idea arose to try \n",
      "            to deal with the fluctuations of signals that\n",
      "            happen depending on the chemical environment.\n",
      "            In this case, the greater the degree of freedom,\n",
      "            the more rigid the system becomes.\n",
      "            \n",
      "        precision:\n",
      "            Is the precision of the spectroscopic measure,\n",
      "            equal to that reported in the range_spectra \n",
      "            variable (class variable).\n",
      "            \n",
      "        spurious_variables:\n",
      "            Spurious variables are positions in the vector\n",
      "            that will always have a value of 0, set False\n",
      "            to exclude them and True to maintain.\n",
      "            \n",
      "        returnAsDataframe:\n",
      "            Return fingerprints in Pandas dataframe format.\n",
      "        colabel:\n",
      "            Label of column name in dataframes. Use when\n",
      "            'returnAsDataframe = True'\n",
      "        verbose:\n",
      "            Show the progressbar.\n",
      "        \n",
      "    Returns:\n",
      "        returns a dataframe or matrix of fingerprints\n",
      "\n"
     ]
    }
   ],
   "source": [
    "help(specfp.fit)"
   ]
  },
  {
   "cell_type": "markdown",
   "metadata": {},
   "source": [
    "# How to search for structures by spectral similarity.\n",
    "\n",
    "- We utilize the SearchEngine class to search for the structures.\n",
    "- The database used in this application was structured by us and is inside the application. It is available at the link: https://github.com/jeffrichardchemistry/SpectraFP, in path SpectraFP/data/"
   ]
  },
  {
   "cell_type": "code",
   "execution_count": 1,
   "metadata": {},
   "outputs": [],
   "source": [
    "from SpectraFP import SearchEngine"
   ]
  },
  {
   "cell_type": "code",
   "execution_count": 2,
   "metadata": {},
   "outputs": [],
   "source": [
    "se = SearchEngine() #Instancing class"
   ]
  },
  {
   "cell_type": "code",
   "execution_count": 19,
   "metadata": {},
   "outputs": [],
   "source": [
    "peak_list = [13.4, 14.0, 22.7, 27.1, 29.4, 29.7, 29.8, 30.8, 32.0, 46.4, 204.4]\n",
    "get_structures = se.search(signs_list=peak_list,\n",
    "                           threshold=0.66,\n",
    "                           difBetween13C=7,\n",
    "                           correction=3,\n",
    "                           similarity='geometric')"
   ]
  },
  {
   "cell_type": "code",
   "execution_count": 20,
   "metadata": {},
   "outputs": [
    {
     "data": {
      "text/plain": [
       "{'C(C(C([H])([H])[H])(C(C(C(C(C(C(C(C(C([H])([H])[H])([H])[H])([H])[H])([H])[H])([H])[H])([H])[H])([H])[H])([H])[H])([H])[H])[H])(=O)[H]': 1.0,\n",
       " 'C(C(C([H])([H])[H])(C(C(C(C(C(C(C(C([H])([H])[H])([H])[H])([H])[H])([H])[H])([H])[H])([H])[H])([H])[H])([H])[H])[H])(=O)[H]': 0.8888888888888888,\n",
       " 'C(C(C(C(C(C(C(C(C([H])([H])[H])([H])[H])([H])[H])([H])[H])([H])[H])([H])[H])([H])[H])([H])[H])([H])([H])[H]': 0.6666666666666666,\n",
       " 'C(C(C(C(C(C(C(C(C(C(C(C(C(C(C(C(C(C(C(C([H])([H])[H])([H])[H])([H])[H])([H])[H])([H])[H])([H])[H])([H])[H])([H])[H])([H])[H])([H])[H])([H])[H])([H])[H])([H])[H])([H])[H])([H])[H])([H])[H])([H])[H])([H])[H])([H])[H])([H])([H])[H]': 0.6666666666666666,\n",
       " 'C(C(C(C(C(C(C(C([H])([H])[H])([H])[H])([H])[H])([H])[H])([H])[H])([H])[H])([H])[H])([H])([H])[H]': 0.6666666666666666,\n",
       " 'C(C(C(C(C(C(C(C(C(C(C(C(C(C(C(C(C(C([H])([H])[H])([H])[H])([H])[H])([H])[H])([H])[H])([H])[H])([H])[H])([H])[H])([H])[H])([H])[H])([H])[H])([H])[H])([H])[H])([H])[H])([H])[H])([H])[H])([H])[H])([H])([H])[H]': 0.6666666666666666,\n",
       " 'C(C(C(C(C(C(C(C(C(C(C([H])([H])[H])([H])[H])([H])[H])([H])[H])([H])[H])([H])[H])([H])[H])([H])[H])([H])[H])([H])[H])(C(C(C(C(C(C(C(C(C(C(C([H])([H])[H])([H])[H])([H])[H])([H])[H])([H])[H])([H])[H])([H])[H])([H])[H])([H])[H])([H])[H])([H])[H])([H])[H]': 0.6666666666666666}"
      ]
     },
     "execution_count": 20,
     "metadata": {},
     "output_type": "execute_result"
    }
   ],
   "source": [
    "get_structures #display as dict"
   ]
  },
  {
   "cell_type": "code",
   "execution_count": 25,
   "metadata": {},
   "outputs": [
    {
     "data": {
      "text/html": [
       "<div>\n",
       "<style scoped>\n",
       "    .dataframe tbody tr th:only-of-type {\n",
       "        vertical-align: middle;\n",
       "    }\n",
       "\n",
       "    .dataframe tbody tr th {\n",
       "        vertical-align: top;\n",
       "    }\n",
       "\n",
       "    .dataframe thead th {\n",
       "        text-align: right;\n",
       "    }\n",
       "</style>\n",
       "<table border=\"1\" class=\"dataframe\">\n",
       "  <thead>\n",
       "    <tr style=\"text-align: right;\">\n",
       "      <th></th>\n",
       "      <th>Smiles</th>\n",
       "      <th>Similarity</th>\n",
       "    </tr>\n",
       "  </thead>\n",
       "  <tbody>\n",
       "    <tr>\n",
       "      <th>0</th>\n",
       "      <td>C(C(C([H])([H])[H])(C(C(C(C(C(C(C(C(C([H])([H]...</td>\n",
       "      <td>1.000000</td>\n",
       "    </tr>\n",
       "    <tr>\n",
       "      <th>1</th>\n",
       "      <td>C(C(C([H])([H])[H])(C(C(C(C(C(C(C(C([H])([H])[...</td>\n",
       "      <td>0.888889</td>\n",
       "    </tr>\n",
       "    <tr>\n",
       "      <th>2</th>\n",
       "      <td>C(C(C(C(C(C(C(C(C([H])([H])[H])([H])[H])([H])[...</td>\n",
       "      <td>0.666667</td>\n",
       "    </tr>\n",
       "    <tr>\n",
       "      <th>3</th>\n",
       "      <td>C(C(C(C(C(C(C(C(C(C(C(C(C(C(C(C(C(C(C(C([H])([...</td>\n",
       "      <td>0.666667</td>\n",
       "    </tr>\n",
       "    <tr>\n",
       "      <th>4</th>\n",
       "      <td>C(C(C(C(C(C(C(C([H])([H])[H])([H])[H])([H])[H]...</td>\n",
       "      <td>0.666667</td>\n",
       "    </tr>\n",
       "    <tr>\n",
       "      <th>5</th>\n",
       "      <td>C(C(C(C(C(C(C(C(C(C(C(C(C(C(C(C(C(C([H])([H])[...</td>\n",
       "      <td>0.666667</td>\n",
       "    </tr>\n",
       "    <tr>\n",
       "      <th>6</th>\n",
       "      <td>C(C(C(C(C(C(C(C(C(C(C([H])([H])[H])([H])[H])([...</td>\n",
       "      <td>0.666667</td>\n",
       "    </tr>\n",
       "  </tbody>\n",
       "</table>\n",
       "</div>"
      ],
      "text/plain": [
       "                                              Smiles  Similarity\n",
       "0  C(C(C([H])([H])[H])(C(C(C(C(C(C(C(C(C([H])([H]...    1.000000\n",
       "1  C(C(C([H])([H])[H])(C(C(C(C(C(C(C(C([H])([H])[...    0.888889\n",
       "2  C(C(C(C(C(C(C(C(C([H])([H])[H])([H])[H])([H])[...    0.666667\n",
       "3  C(C(C(C(C(C(C(C(C(C(C(C(C(C(C(C(C(C(C(C([H])([...    0.666667\n",
       "4  C(C(C(C(C(C(C(C([H])([H])[H])([H])[H])([H])[H]...    0.666667\n",
       "5  C(C(C(C(C(C(C(C(C(C(C(C(C(C(C(C(C(C([H])([H])[...    0.666667\n",
       "6  C(C(C(C(C(C(C(C(C(C(C([H])([H])[H])([H])[H])([...    0.666667"
      ]
     },
     "execution_count": 25,
     "metadata": {},
     "output_type": "execute_result"
    }
   ],
   "source": [
    "import pandas as pd\n",
    "#display as dataframe\n",
    "pd.DataFrame({'Smiles':get_structures.keys(), 'Similarity':get_structures.values()})"
   ]
  },
  {
   "cell_type": "code",
   "execution_count": 21,
   "metadata": {},
   "outputs": [
    {
     "name": "stdout",
     "output_type": "stream",
     "text": [
      "Help on method search in module SpectraFP.spectrafp:\n",
      "\n",
      "search(signs_list=[], threshold=0.8, difBetween13C=5, correction=3, similarity='tanimoto', alpha=1, beta=0.5) method of SpectraFP.spectrafp.SearchEngine instance\n",
      "    This function perform a similarity search between spectraFPs (query -> database) from a list of signs.\n",
      "    \n",
      "    Parameters\n",
      "    ----------\n",
      "    signs_list : TYPE, list\n",
      "        List of signs, must be inside the interval\n",
      "        0.0 to 240.0. example [0.1, 14.5, 25.3, 125.3, 190.3].\n",
      "    threshold : TYPE, float\n",
      "        Must be inside interval 0 to 1. The default is 0.8.\n",
      "    difBetween13C : TYPE, int\n",
      "        This parameter is a kind of filter. This means\n",
      "        the difference between the amount of signs, in spectraFP form,\n",
      "        between the query sample and the samples from database.\n",
      "        The default is 5. Set 'False' to do not use this filter.\n",
      "    correction : TYPE, int\n",
      "        The correction is associated with the\n",
      "        rigidity of the system. Given a degree of\n",
      "        freedom of 1, we have that in a vector of\n",
      "        signals [0.0, 0.1, 0.2] only the value of the\n",
      "        medium will be considered, i.e., 0.2 and 0.0 \n",
      "        will be treated as 0.1. This idea arose to try \n",
      "        to deal with the fluctuations of signals that\n",
      "        happen depending on the chemical environment.\n",
      "        In this case, the greater the degree of freedom,\n",
      "        the more rigid the system becomes.\n",
      "        The default is 3.\n",
      "    similarity : TYPE, str\n",
      "        The calculation metric to use. The options are:\n",
      "            'tanimoto','tversky','geometric', 'arithmetic', 'euclidian','manhattan'\n",
      "        \n",
      "        The default is 'tanimoto'.\n",
      "    alpha : TYPE, int/float\n",
      "        Only use if similarity is tversky.\n",
      "        The default is 1.\n",
      "    beta : TYPE, int/float\n",
      "        Only use if similarity is tversky.\n",
      "        The default is 0.5.\n",
      "    \n",
      "    Returns\n",
      "    -------\n",
      "    matches_complete : TYPE, dictionary\n",
      "        Dictionary with smiles as keys and similarities as values.\n",
      "\n"
     ]
    }
   ],
   "source": [
    "help(se.search)"
   ]
  },
  {
   "attachments": {
    "image.png": {
     "image/png": "[encoded data removed]"
    }
   },
   "cell_type": "markdown",
   "metadata": {},
   "source": [
    "# Generating SpectraFP1H\n",
    "- This descriptor was developed to digitize 1H NMR spectra data, involving chemical shift data, multiplicity label and the quantity of hydrogens referring to a given signal (when this information is available.\n",
    "<br>\n",
    "<br>\n",
    "- The objective is to digitalizing these 1H NMR data into a correlation matrix, where each column represents a chemical shift (the range is defined by the user) and the rows represent the signal multiplicity label. Therefore, given the position of a signal in this matrix, the value assigned to that position is the number of hydrogens contained in that signal. The following image provides an illustration of what the descriptor looks like\n",
    "\n",
    "![image.png](attachment:image.png)\n",
    "\n",
    "\n"
   ]
  },
  {
   "cell_type": "code",
   "execution_count": 1,
   "metadata": {},
   "outputs": [],
   "source": [
    "from SpectraFP import SpectraFP1H #importing"
   ]
  },
  {
   "attachments": {
    "82605186-d512-4c93-b0da-d42e0801c7b4.png": {
     "image/png": "[encoded data removed]"
    }
   },
   "cell_type": "markdown",
   "metadata": {},
   "source": [
    "- The input data must have the same format as the data variable. First position of each tuple is the ppm, second multiplicity and third number of hydrogen of a signal.\n",
    "- Multiplicity label can be writed as a acronym or full name (Case-insensitive). see the full list below. \n",
    "\n",
    "![image.png](attachment:82605186-d512-4c93-b0da-d42e0801c7b4.png)\n",
    "\n",
    "-If a multiplicity is in the input data and does not belong to this list, it will automatically be considered as a multiplet (m)"
   ]
  },
  {
   "cell_type": "code",
   "execution_count": 15,
   "metadata": {},
   "outputs": [],
   "source": [
    "data = [(0.01,'s',4),(0.12,'s',3),(0.00,'quint',3),(9.98,'doublet',2),(0.12,'t',3)]\n",
    "hfp = SpectraFP1H(range_spectra=[0,10,0.01],multiplicty_filter=['All'])\n",
    "result = hfp.genFP(peaks=data, returnAsBinaryValues=False)"
   ]
  },
  {
   "cell_type": "code",
   "execution_count": 16,
   "metadata": {},
   "outputs": [
    {
     "data": {
      "text/plain": [
       "(array([[0., 4., 0., ..., 0., 0., 0.],\n",
       "        [0., 0., 0., ..., 0., 2., 0.],\n",
       "        [0., 0., 0., ..., 0., 0., 0.],\n",
       "        ...,\n",
       "        [0., 0., 0., ..., 0., 0., 0.],\n",
       "        [0., 0., 0., ..., 0., 0., 0.],\n",
       "        [0., 0., 0., ..., 0., 0., 0.]]),\n",
       " (29, 1000))"
      ]
     },
     "execution_count": 16,
     "metadata": {},
     "output_type": "execute_result"
    }
   ],
   "source": [
    "result, result.shape"
   ]
  },
  {
   "cell_type": "markdown",
   "metadata": {},
   "source": [
    "- It is possible to built this descriptor only with a list of selected multiplicities. In this case, enter a list of multiplicities in the `multiplicty_filter`"
   ]
  },
  {
   "cell_type": "code",
   "execution_count": 17,
   "metadata": {},
   "outputs": [],
   "source": [
    "data = [(0.01,'s',4),(0.12,'s',3),(0.00,'quint',3),(9.98,'doublet',2),(0.12,'t',3)]\n",
    "hfp = SpectraFP1H(range_spectra=[0,10,0.01],multiplicty_filter=['s', 'quintet','doublet','t','m'])\n",
    "result = hfp.genFP(peaks=data, returnAsBinaryValues=False)"
   ]
  },
  {
   "cell_type": "code",
   "execution_count": 18,
   "metadata": {},
   "outputs": [
    {
     "data": {
      "text/plain": [
       "(array([[0., 4., 0., ..., 0., 0., 0.],\n",
       "        [0., 0., 0., ..., 0., 2., 0.],\n",
       "        [0., 0., 0., ..., 0., 0., 0.],\n",
       "        [0., 0., 0., ..., 0., 0., 0.],\n",
       "        [3., 0., 0., ..., 0., 0., 0.]]),\n",
       " (5, 1000))"
      ]
     },
     "execution_count": 18,
     "metadata": {},
     "output_type": "execute_result"
    }
   ],
   "source": [
    "result, result.shape"
   ]
  },
  {
   "cell_type": "markdown",
   "metadata": {},
   "source": [
    "- To get a binary matrix change parameter `returnAsBinaryValues=True`"
   ]
  },
  {
   "cell_type": "code",
   "execution_count": 19,
   "metadata": {},
   "outputs": [],
   "source": [
    "data = [(0.01,'s',4),(0.12,'s',3),(0.00,'quint',3),(9.98,'doublet',2),(0.12,'t',3)]\n",
    "hfp = SpectraFP1H(range_spectra=[0,10,0.01],multiplicty_filter=['s', 'quintet','doublet','t','m'])\n",
    "result = hfp.genFP(peaks=data, returnAsBinaryValues=True)"
   ]
  },
  {
   "cell_type": "code",
   "execution_count": 20,
   "metadata": {},
   "outputs": [
    {
     "data": {
      "text/plain": [
       "(array([[0., 1., 0., ..., 0., 0., 0.],\n",
       "        [0., 0., 0., ..., 0., 1., 0.],\n",
       "        [0., 0., 0., ..., 0., 0., 0.],\n",
       "        [0., 0., 0., ..., 0., 0., 0.],\n",
       "        [1., 0., 0., ..., 0., 0., 0.]]),\n",
       " (5, 1000))"
      ]
     },
     "execution_count": 20,
     "metadata": {},
     "output_type": "execute_result"
    }
   ],
   "source": [
    "result, result.shape"
   ]
  },
  {
   "cell_type": "markdown",
   "metadata": {},
   "source": [
    "- It is possible to built this descriptor without information on the quantity of hydrogens (integral), in this case the value assigned within the matrix will only be equal to 1."
   ]
  },
  {
   "cell_type": "code",
   "execution_count": 2,
   "metadata": {},
   "outputs": [],
   "source": [
    "data = [(0.01,'s'),(0.12,'s'),(0.00,'quint'),(9.98,'doublet'),(0.12,'t')]\n",
    "hfp = SpectraFP1H(range_spectra=[0,10,0.01],multiplicty_filter=['s', 'quintet','doublet','t','m'])\n",
    "result = hfp.genFP(peaks=data)"
   ]
  },
  {
   "cell_type": "code",
   "execution_count": 3,
   "metadata": {},
   "outputs": [
    {
     "data": {
      "text/plain": [
       "(array([[0., 1., 0., ..., 0., 0., 0.],\n",
       "        [0., 0., 0., ..., 0., 1., 0.],\n",
       "        [0., 0., 0., ..., 0., 0., 0.],\n",
       "        [0., 0., 0., ..., 0., 0., 0.],\n",
       "        [1., 0., 0., ..., 0., 0., 0.]]),\n",
       " (5, 1000))"
      ]
     },
     "execution_count": 3,
     "metadata": {},
     "output_type": "execute_result"
    }
   ],
   "source": [
    "result, result.shape"
   ]
  },
  {
   "cell_type": "code",
   "execution_count": null,
   "metadata": {},
   "outputs": [],
   "source": []
  }
 ],
 "metadata": {
  "kernelspec": {
   "display_name": "Python 3 (ipykernel)",
   "language": "python",
   "name": "python3"
  },
  "language_info": {
   "codemirror_mode": {
    "name": "ipython",
    "version": 3
   },
   "file_extension": ".py",
   "mimetype": "text/x-python",
   "name": "python",
   "nbconvert_exporter": "python",
   "pygments_lexer": "ipython3",
   "version": "3.8.10"
  }
 },
 "nbformat": 4,
 "nbformat_minor": 4
}
